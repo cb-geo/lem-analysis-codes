{
 "cells": [
  {
   "cell_type": "code",
   "execution_count": 1,
   "metadata": {},
   "outputs": [
    {
     "name": "stdout",
     "output_type": "stream",
     "text": [
      "['ID', 'Length', 'Area', 'Angle_XY', 'Angle_YZ', 'Angle_ZX', 'Stiffness', 'Emicro', 'Tensile_Strength', 'Status', 'Prefracture']\n"
     ]
    }
   ],
   "source": [
    "# Read HDF5 data\n",
    "# !pip3 install pandas\n",
    "import pandas as pd\n",
    "df = pd.read_hdf('elements0.h5', 'table')\n",
    "# Print column headers\n",
    "print(list(df))"
   ]
  },
  {
   "cell_type": "code",
   "execution_count": 2,
   "metadata": {},
   "outputs": [
    {
     "name": "stdout",
     "output_type": "stream",
     "text": [
      "0         1.033494\n",
      "1         1.061241\n",
      "2         1.617367\n",
      "3         1.335946\n",
      "4         1.105804\n",
      "5         1.016022\n",
      "6         1.565203\n",
      "7         1.511695\n",
      "8         1.057166\n",
      "9         1.030865\n",
      "10        1.116921\n",
      "11        1.097953\n",
      "12        1.860735\n",
      "13        1.140445\n",
      "14        1.193250\n",
      "15        1.281210\n",
      "16        1.210137\n",
      "17        1.427339\n",
      "18        1.451582\n",
      "19        1.196798\n",
      "20        1.292599\n",
      "21        1.567529\n",
      "22        1.236817\n",
      "23        1.672937\n",
      "24        1.094468\n",
      "25        1.525724\n",
      "26        1.407989\n",
      "27        1.037870\n",
      "28        1.200942\n",
      "29        1.081964\n",
      "            ...   \n",
      "630679    1.130435\n",
      "630680    1.330649\n",
      "630681    1.113596\n",
      "630682    1.792259\n",
      "630683    1.697879\n",
      "630684    1.705754\n",
      "630685    1.323581\n",
      "630686    1.017631\n",
      "630687    1.366704\n",
      "630688    1.760565\n",
      "630689    1.671392\n",
      "630690    1.127864\n",
      "630691    1.627792\n",
      "630692    1.466569\n",
      "630693    1.063714\n",
      "630694    1.204026\n",
      "630695    1.262668\n",
      "630696    1.021173\n",
      "630697    1.154017\n",
      "630698    1.236406\n",
      "630699    1.645887\n",
      "630700    1.828867\n",
      "630701    1.418370\n",
      "630702    1.252435\n",
      "630703    1.028934\n",
      "630704    1.052511\n",
      "630705    1.201889\n",
      "630706    1.551710\n",
      "630707    1.581214\n",
      "630708    1.643624\n",
      "Name: Length, Length: 630709, dtype: float64\n"
     ]
    }
   ],
   "source": [
    "# Print all lengths\n",
    "print(df['Length'])"
   ]
  }
 ],
 "metadata": {
  "kernelspec": {
   "display_name": "Python 3",
   "language": "python",
   "name": "python3"
  },
  "language_info": {
   "codemirror_mode": {
    "name": "ipython",
    "version": 3
   },
   "file_extension": ".py",
   "mimetype": "text/x-python",
   "name": "python",
   "nbconvert_exporter": "python",
   "pygments_lexer": "ipython3",
   "version": "3.6.4"
  }
 },
 "nbformat": 4,
 "nbformat_minor": 2
}
