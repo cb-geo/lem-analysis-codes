{
 "cells": [
  {
   "cell_type": "code",
   "execution_count": 1,
   "metadata": {},
   "outputs": [
    {
     "name": "stdout",
     "output_type": "stream",
     "text": [
      "['ID', 'Length', 'Area', 'Angle_XY', 'Angle_YZ', 'Angle_ZX', 'Stiffness', 'Emicro', 'Tensile_Strength', 'Status', 'Prefracture']\n"
     ]
    }
   ],
   "source": [
    "# Read HDF5 data\n",
    "# !pip3 install pandas\n",
    "import pandas as pd\n",
    "df = pd.read_hdf('elements0.h5', 'table')\n",
    "# Print column headers\n",
    "print(list(df))"
   ]
  },
  {
   "cell_type": "code",
   "execution_count": 2,
   "metadata": {},
   "outputs": [
    {
     "name": "stdout",
     "output_type": "stream",
     "text": [
      "0         1.668868e+07\n",
      "1         9.293878e+06\n",
      "2         1.351589e+06\n",
      "3         1.183260e+07\n",
      "4         1.167046e+07\n",
      "5         1.059566e+07\n",
      "6         1.940644e+06\n",
      "7         3.229307e+04\n",
      "8         2.754835e+06\n",
      "9         3.465442e+06\n",
      "10        8.661746e+06\n",
      "11        1.319300e+07\n",
      "12        3.817767e+03\n",
      "13        1.943704e+07\n",
      "14        1.213295e+07\n",
      "15        7.872802e+06\n",
      "16        1.019259e+07\n",
      "17        6.707974e+06\n",
      "18        3.318949e+06\n",
      "19        1.713870e+07\n",
      "20        8.843238e+06\n",
      "21        1.089704e+06\n",
      "22        1.260995e+07\n",
      "23        6.461212e+05\n",
      "24        8.352828e+06\n",
      "25        1.727943e+06\n",
      "26        3.251251e+06\n",
      "27        1.116733e+07\n",
      "28        1.114513e+07\n",
      "29        1.399149e+07\n",
      "              ...     \n",
      "630679    1.471738e+07\n",
      "630680    6.646532e+06\n",
      "630681    1.401435e+07\n",
      "630682    2.927489e+05\n",
      "630683    1.447052e+06\n",
      "630684    1.007596e+06\n",
      "630685    8.016968e+06\n",
      "630686    2.061909e+07\n",
      "630687    3.196922e+06\n",
      "630688    1.240168e+04\n",
      "630689    1.334343e+06\n",
      "630690    1.426905e+07\n",
      "630691    7.710206e+05\n",
      "630692    4.794679e+06\n",
      "630693    1.899418e+07\n",
      "630694    1.427695e+07\n",
      "630695    8.561744e+06\n",
      "630696    1.538382e+07\n",
      "630697    1.107349e+07\n",
      "630698    8.173408e+06\n",
      "630699    9.211994e+05\n",
      "630700    1.860335e+04\n",
      "630701    5.123442e+06\n",
      "630702    9.234715e+06\n",
      "630703    9.494441e+06\n",
      "630704    1.497366e+07\n",
      "630705    3.330723e+06\n",
      "630706    3.690766e+06\n",
      "630707    2.478196e+06\n",
      "630708    9.407602e+04\n",
      "Name: Stiffness, Length: 630709, dtype: float64\n"
     ]
    }
   ],
   "source": [
    "# Print all stiffness\n",
    "print(df['Stiffness'])"
   ]
  },
  {
   "cell_type": "code",
   "execution_count": 3,
   "metadata": {},
   "outputs": [
    {
     "data": {
      "text/plain": [
       "<matplotlib.axes._subplots.AxesSubplot at 0x7fd2d888b1d0>"
      ]
     },
     "execution_count": 3,
     "metadata": {},
     "output_type": "execute_result"
    },
    {
     "data": {
      "image/png": "[encoded data removed]",
      "text/plain": [
       "<matplotlib.figure.Figure at 0x7fd2d912e2b0>"
      ]
     },
     "metadata": {},
     "output_type": "display_data"
    }
   ],
   "source": [
    "# Plot stiffness\n",
    "import matplotlib.pyplot as plt\n",
    "import matplotlib\n",
    "matplotlib.style.use('ggplot')\n",
    "%matplotlib inline\n",
    "(df['Stiffness']).plot.hist(alpha=0.5, bins=100, range=(1e5,5e8))"
   ]
  },
  {
   "cell_type": "code",
   "execution_count": 4,
   "metadata": {},
   "outputs": [
    {
     "data": {
      "text/plain": [
       "1003.3955107584422"
      ]
     },
     "execution_count": 4,
     "metadata": {},
     "output_type": "execute_result"
    }
   ],
   "source": [
    "# Minimum stiffness\n",
    "df['Stiffness'].min()"
   ]
  }
 ],
 "metadata": {
  "kernelspec": {
   "display_name": "Python 3",
   "language": "python",
   "name": "python3"
  },
  "language_info": {
   "codemirror_mode": {
    "name": "ipython",
    "version": 3
   },
   "file_extension": ".py",
   "mimetype": "text/x-python",
   "name": "python",
   "nbconvert_exporter": "python",
   "pygments_lexer": "ipython3",
   "version": "3.6.4"
  }
 },
 "nbformat": 4,
 "nbformat_minor": 2
}
